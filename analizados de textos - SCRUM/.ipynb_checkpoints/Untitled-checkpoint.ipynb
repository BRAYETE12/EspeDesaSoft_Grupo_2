{
 "cells": [
  {
   "cell_type": "markdown",
   "metadata": {},
   "source": [
    "# Analizador de datos Scopus"
   ]
  },
  {
   "cell_type": "code",
   "execution_count": 1,
   "metadata": {},
   "outputs": [],
   "source": [
    "import numpy as np\n",
    "import nltk\n",
    "from textblob import TextBlob \n",
    "from textblob.sentiments import NaiveBayesAnalyzer\n",
    "import csv"
   ]
  },
  {
   "cell_type": "code",
   "execution_count": 2,
   "metadata": {},
   "outputs": [],
   "source": [
    "def importar(url):\n",
    "    \n",
    "    archivo = open(url, \"r\", encoding='utf-8')\n",
    "    entrada = list( csv.reader(archivo) )   \n",
    "    entrada.pop(0)\n",
    "    \n",
    "    lista = [] \n",
    "    palabras = []\n",
    "    for a in entrada:\n",
    "        \n",
    "        blob = TextBlob( a[14], analyzer=NaiveBayesAnalyzer() )\n",
    "        bagtext =  list(blob.noun_phrases)\n",
    "        lista.append([ a[2],bagtext, blob.sentiment ]) \n",
    "        palabras = palabras + bagtext\n",
    "        \n",
    "    fc = frecuencia(lista, palabras)\n",
    "  #  print( fc )\n",
    "    \n",
    "    return lista\n",
    "\n",
    "\n",
    "def frecuencia(lista, palabras):\n",
    "    \n",
    "    palabras = list(np.unique(np.array(palabras)))\n",
    "    fc = np.empty( len(palabras) )\n",
    "    lt = []\n",
    "    \n",
    "    for l in lista:\n",
    "        for i in range(len(palabras)):\n",
    "            fc[i] = fc[i] + l[2].count( palabras[i] )\n",
    "    \n",
    "    for i in range(len(palabras)):\n",
    "        lt.append([ palabras[i], fc[i] ]) \n",
    "    \n",
    "    return lt"
   ]
  },
  {
   "cell_type": "code",
   "execution_count": null,
   "metadata": {},
   "outputs": [],
   "source": [
    "listado = importar('scopus.csv')\n",
    "\n",
    "print(listado)"
   ]
  }
 ],
 "metadata": {
  "kernelspec": {
   "display_name": "Python 3",
   "language": "python",
   "name": "python3"
  },
  "language_info": {
   "codemirror_mode": {
    "name": "ipython",
    "version": 3
   },
   "file_extension": ".py",
   "mimetype": "text/x-python",
   "name": "python",
   "nbconvert_exporter": "python",
   "pygments_lexer": "ipython3",
   "version": "3.8.5"
  }
 },
 "nbformat": 4,
 "nbformat_minor": 4
}
